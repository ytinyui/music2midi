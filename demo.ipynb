{
    "cells": [
        {
            "cell_type": "code",
            "execution_count": null,
            "metadata": {},
            "outputs": [],
            "source": [
                "from music2midi.model import Music2MIDI\n",
                "import torch\n",
                "\n",
                "device = \"cuda\" if torch.cuda.is_available() else \"cpu\"\n",
                "ckpt_path = \"checkpoints/epoch=799-step=119200.ckpt\"  # change this to the downloaded checkpoint file path\n",
                "model = Music2MIDI.load_from_checkpoint(ckpt_path, config_path=\"config.yaml\")\n",
                "model.to(device).eval()\n",
                "print(\"model loaded successfully\")"
            ]
        },
        {
            "cell_type": "markdown",
            "metadata": {},
            "source": [
                "Download audio from YouTube\n"
            ]
        },
        {
            "cell_type": "code",
            "execution_count": null,
            "metadata": {},
            "outputs": [],
            "source": [
                "import yt_dlp\n",
                "\n",
                "url = \"https://www.youtube.com/watch?v=BBJa32lCaaY\"\n",
                "input_audio_path = \"demo_audio.mp3\"\n",
                "\n",
                "ydl_opts = {\n",
                "    \"format\": \"bestaudio/best\",\n",
                "    \"outtmpl\": {\"default\": str(input_audio_path)},\n",
                "}\n",
                "with yt_dlp.YoutubeDL(ydl_opts) as ydl:\n",
                "    ydl.download(url)"
            ]
        },
        {
            "cell_type": "markdown",
            "metadata": {},
            "source": [
                "Generate MIDI from input audio\n"
            ]
        },
        {
            "cell_type": "code",
            "execution_count": null,
            "metadata": {},
            "outputs": [],
            "source": [
                "midi_data = model.generate(input_audio_path)"
            ]
        },
        {
            "cell_type": "markdown",
            "metadata": {},
            "source": [
                "Synthesize MIDI to audio\n"
            ]
        },
        {
            "cell_type": "code",
            "execution_count": null,
            "metadata": {},
            "outputs": [],
            "source": [
                "import IPython.display as ipd\n",
                "\n",
                "fs = 44100\n",
                "midi_synth = midi_data.fluidsynth(fs)\n",
                "ipd.display(ipd.Audio(midi_synth, rate=fs))"
            ]
        },
        {
            "cell_type": "markdown",
            "metadata": {},
            "source": [
                "Visualize MIDI sequence using note_seq\n"
            ]
        },
        {
            "cell_type": "code",
            "execution_count": null,
            "metadata": {},
            "outputs": [],
            "source": [
                "from music2midi.plot_midi import plot_midi_sequence\n",
                "\n",
                "plot_midi_sequence(midi_data)"
            ]
        },
        {
            "cell_type": "markdown",
            "metadata": {},
            "source": [
                "Save model output to disk\n"
            ]
        },
        {
            "cell_type": "code",
            "execution_count": null,
            "metadata": {},
            "outputs": [],
            "source": [
                "import soundfile as sf\n",
                "\n",
                "# save midi file\n",
                "midi_data.write(\"demo_audio_output.mid\")\n",
                "# save audio file\n",
                "sf.write(\"demo_audio_output.mp3\", midi_synth, fs)"
            ]
        }
    ],
    "metadata": {
        "kernelspec": {
            "display_name": "music2midi",
            "language": "python",
            "name": "python3"
        },
        "language_info": {
            "codemirror_mode": {
                "name": "ipython",
                "version": 3
            },
            "file_extension": ".py",
            "mimetype": "text/x-python",
            "name": "python",
            "nbconvert_exporter": "python",
            "pygments_lexer": "ipython3",
            "version": "3.9.18"
        }
    },
    "nbformat": 4,
    "nbformat_minor": 2
}